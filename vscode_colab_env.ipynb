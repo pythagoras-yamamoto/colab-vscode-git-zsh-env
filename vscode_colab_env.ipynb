{
  "nbformat": 4,
  "nbformat_minor": 0,
  "metadata": {
    "colab": {
      "name": "vscode-colab-env.ipynb",
      "provenance": [],
      "authorship_tag": "ABX9TyO5KCK8u7Nb9/iMo/l9XuH5",
      "include_colab_link": true
    },
    "kernelspec": {
      "name": "python3",
      "display_name": "Python 3"
    },
    "language_info": {
      "name": "python"
    },
    "accelerator": "GPU",
    "gpuClass": "standard"
  },
  "cells": [
    {
      "cell_type": "markdown",
      "metadata": {
        "id": "view-in-github",
        "colab_type": "text"
      },
      "source": [
        "<a href=\"https://colab.research.google.com/github/pythagoras-yamamoto/colab-vscode-git-zsh-env/blob/main/vscode_colab_env.ipynb\" target=\"_parent\"><img src=\"https://colab.research.google.com/assets/colab-badge.svg\" alt=\"Open In Colab\"/></a>"
      ]
    },
    {
      "cell_type": "markdown",
      "source": [
        "### Google Colab proをVSCodeでssh接続してV100(GPU)を早速回してみた。\n",
        "\n",
        "https://qiita.com/Never_/items/3dfcc8cf5c2765832c74"
      ],
      "metadata": {
        "id": "1ucfZJtSvACv"
      }
    },
    {
      "cell_type": "markdown",
      "source": [
        "Password、Portは毎回可変のためVSCodeのSSH Targetに適宜設定する"
      ],
      "metadata": {
        "id": "-0HhMDpFx17m"
      }
    },
    {
      "cell_type": "markdown",
      "source": [
        ""
      ],
      "metadata": {
        "id": "Iu8FezR8x1G4"
      }
    },
    {
      "cell_type": "code",
      "execution_count": 12,
      "metadata": {
        "colab": {
          "base_uri": "https://localhost:8080/"
        },
        "id": "enLheOHcsBd3",
        "outputId": "cf1ee0bd-b0ad-47f1-b059-2d38e6ee60c0"
      },
      "outputs": [
        {
          "output_type": "stream",
          "name": "stdout",
          "text": [
            "Drive already mounted at /content/drive; to attempt to forcibly remount, call drive.mount(\"/content/drive\", force_remount=True).\n"
          ]
        }
      ],
      "source": [
        "from google.colab import drive\n",
        "drive.mount('/content/drive')"
      ]
    },
    {
      "cell_type": "code",
      "source": [
        "import random, string, urllib.request, json, getpass"
      ],
      "metadata": {
        "id": "7hM_uB1WsOag"
      },
      "execution_count": 13,
      "outputs": []
    },
    {
      "cell_type": "code",
      "source": [
        "password = ''.join(random.choice(string.ascii_letters + string.digits) for i in range(20))\n",
        "password"
      ],
      "metadata": {
        "colab": {
          "base_uri": "https://localhost:8080/",
          "height": 37
        },
        "id": "sbMRNnMlsW4i",
        "outputId": "adf73fd4-dfa0-4219-841d-d797b52d915b"
      },
      "execution_count": 14,
      "outputs": [
        {
          "output_type": "execute_result",
          "data": {
            "text/plain": [
              "'1ASoMT1KyYxNufnXdyxF'"
            ],
            "application/vnd.google.colaboratory.intrinsic+json": {
              "type": "string"
            }
          },
          "metadata": {},
          "execution_count": 14
        }
      ]
    },
    {
      "cell_type": "code",
      "source": [
        "! wget -q -c -nc https://bin.equinox.io/c/4VmDzA7iaHb/ngrok-stable-linux-amd64.zip\n",
        "! unzip -qq -n ngrok-stable-linux-amd64.zip"
      ],
      "metadata": {
        "id": "h1Pk927FsZ6l"
      },
      "execution_count": 15,
      "outputs": []
    },
    {
      "cell_type": "code",
      "source": [
        "! apt-get install -qq -o=Dpkg::Use-Pty=0 openssh-server pwgen > /dev/null"
      ],
      "metadata": {
        "id": "4g11vLdpu57E"
      },
      "execution_count": 16,
      "outputs": []
    },
    {
      "cell_type": "code",
      "source": [
        "#Set root password\n",
        "! echo root:$password | chpasswd\n",
        "! mkdir -p /var/run/sshd\n",
        "! echo \"PermitRootLogin yes\" >> /etc/ssh/sshd_config\n",
        "! echo \"PasswordAuthentication yes\" >> /etc/ssh/sshd_config\n",
        "! echo \"LD_LIBRARY_PATH=/usr/lib64-nvidia\" >> /root/.bashrc\n",
        "! echo \"export LD_LIBRARY_PATH\" >> /root/.bashrc"
      ],
      "metadata": {
        "id": "BF-T2aAqso2n"
      },
      "execution_count": 17,
      "outputs": []
    },
    {
      "cell_type": "code",
      "source": [
        "get_ipython().system_raw('/usr/sbin/sshd -D &')"
      ],
      "metadata": {
        "id": "HKNhIyEJstYd"
      },
      "execution_count": 19,
      "outputs": []
    },
    {
      "cell_type": "code",
      "source": [
        "#Access Token \n",
        "authtoken=\"2DW5JK919gPbTATMozj0z57E2z1_3bLLtmn4n6MuXeTCuPCsR\""
      ],
      "metadata": {
        "id": "6RYXauvWswzT"
      },
      "execution_count": 20,
      "outputs": []
    },
    {
      "cell_type": "code",
      "source": [
        "get_ipython().system_raw('./ngrok authtoken $authtoken && ./ngrok tcp 22 &')"
      ],
      "metadata": {
        "id": "h1A8ye75s8K1"
      },
      "execution_count": 21,
      "outputs": []
    },
    {
      "cell_type": "code",
      "source": [
        "with urllib.request.urlopen('http://localhost:4040/api/tunnels') as response:\n",
        "  data = json.loads(response.read().decode())\n",
        "  (host, port) = data['tunnels'][0]['public_url'][6:].split(':')\n",
        "  print(f'SSH command: ssh -p{port} root@{host}')\n",
        "\n",
        "print(f'Root password: {password}')"
      ],
      "metadata": {
        "colab": {
          "base_uri": "https://localhost:8080/"
        },
        "id": "d20lfMtnszU9",
        "outputId": "41439f46-0740-45a5-d89e-bfdce9df843f"
      },
      "execution_count": 22,
      "outputs": [
        {
          "output_type": "stream",
          "name": "stdout",
          "text": [
            "SSH command: ssh -p17906 root@6.tcp.ngrok.io\n",
            "Root password: 1ASoMT1KyYxNufnXdyxF\n"
          ]
        }
      ]
    }
  ]
}